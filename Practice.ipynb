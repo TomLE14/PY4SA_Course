{
 "cells": [
  {
   "cell_type": "code",
   "execution_count": 1,
   "id": "201361bb-566c-4155-b5a5-1a918ffd3574",
   "metadata": {},
   "outputs": [
    {
     "data": {
      "text/plain": [
       "15"
      ]
     },
     "execution_count": 1,
     "metadata": {},
     "output_type": "execute_result"
    }
   ],
   "source": [
    "10+5"
   ]
  },
  {
   "cell_type": "code",
   "execution_count": 2,
   "id": "a08c0b7f-bc3c-4a80-9f3d-83c1d76d1bdf",
   "metadata": {},
   "outputs": [
    {
     "data": {
      "text/plain": [
       "81"
      ]
     },
     "execution_count": 2,
     "metadata": {},
     "output_type": "execute_result"
    }
   ],
   "source": [
    "9*9"
   ]
  },
  {
   "cell_type": "markdown",
   "id": "b33b415a-b82c-4f88-b1d1-bd3bed11895c",
   "metadata": {
    "tags": []
   },
   "source": [
    "# Markdown Heading 1"
   ]
  },
  {
   "cell_type": "markdown",
   "id": "ca83786f-fc3e-4a92-8b93-b8ab8a88d466",
   "metadata": {},
   "source": [
    "## Level 2 heading"
   ]
  },
  {
   "cell_type": "code",
   "execution_count": 4,
   "id": "7509d15a-4e3b-40dc-bbea-7b5ea37b95fa",
   "metadata": {},
   "outputs": [],
   "source": [
    "a = [80, 90, 95, 87, 82]"
   ]
  },
  {
   "cell_type": "code",
   "execution_count": null,
   "id": "81560006-cdec-4313-91ab-21d0d87983d5",
   "metadata": {},
   "outputs": [],
   "source": []
  }
 ],
 "metadata": {
  "kernelspec": {
   "display_name": "Python 3 (ipykernel)",
   "language": "python",
   "name": "python3"
  },
  "language_info": {
   "codemirror_mode": {
    "name": "ipython",
    "version": 3
   },
   "file_extension": ".py",
   "mimetype": "text/x-python",
   "name": "python",
   "nbconvert_exporter": "python",
   "pygments_lexer": "ipython3",
   "version": "3.10.9"
  }
 },
 "nbformat": 4,
 "nbformat_minor": 5
}
