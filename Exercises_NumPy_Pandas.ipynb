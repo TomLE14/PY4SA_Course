{
 "cells": [
  {
   "cell_type": "markdown",
   "id": "22251e58-78c4-44bf-b39e-a3e7619120ee",
   "metadata": {},
   "source": [
    "# Python for Spatial Analysis\n",
    "## Second part of the module of GG3209 Spatial Analysis with GIS.\n",
    "### Notebook to practice NumPy and Pandas - Exercises\n",
    "\n",
    "---\n",
    "Dr Fernando Benitez -  University of St Andrews - School of Geography and Sustainable Development - First Iteration 2023 v.1.0 "
   ]
  },
  {
   "cell_type": "markdown",
   "id": "eaf0b951",
   "metadata": {},
   "source": [
    "# Practicing NumPy"
   ]
  },
  {
   "cell_type": "markdown",
   "id": "36aaf97a",
   "metadata": {},
   "source": [
    "## 2.0 \n",
    "Import numpy under the alias `np`."
   ]
  },
  {
   "cell_type": "code",
   "execution_count": 2,
   "id": "51aa53cd",
   "metadata": {},
   "outputs": [],
   "source": [
    "import numpy as np"
   ]
  },
  {
   "cell_type": "markdown",
   "id": "10df0fb9",
   "metadata": {},
   "source": [
    "## 2.1 \n",
    "\n",
    "Create the following arrays:\n",
    "\n",
    "* Create an array of 10 ones.\n",
    "\n",
    "* Create an array of the integers 1 to 20.\n",
    "\n",
    "* Create a 5 x 5 matrix of ones with a dtype int."
   ]
  },
  {
   "cell_type": "code",
   "execution_count": 15,
   "id": "5a1b83d1",
   "metadata": {},
   "outputs": [
    {
     "name": "stdout",
     "output_type": "stream",
     "text": [
      "[1 1 1 1 1 1 1 1 1 1]\n",
      "[ 1  2  3  4  5  6  7  8  9 10 11 12 13 14 15 16 17 18 19 20]\n",
      "[[[1. 1. 1. 1. 1.]\n",
      "  [1. 1. 1. 1. 1.]\n",
      "  [1. 1. 1. 1. 1.]\n",
      "  [1. 1. 1. 1. 1.]\n",
      "  [1. 1. 1. 1. 1.]]]\n"
     ]
    }
   ],
   "source": [
    "arr1 = np.tile(1, 10)\n",
    "print(arr1)\n",
    "\n",
    "arr2 = np.arange(1, 21, 1, dtype=\"int\")\n",
    "print(arr2)\n",
    "\n",
    "arr3= np.ones((1,5,5))\n",
    "print(arr3)\n",
    "\n"
   ]
  },
  {
   "cell_type": "markdown",
   "id": "f4d5f95c",
   "metadata": {},
   "source": [
    "## 2.2 \n",
    "Use numpy to:\n",
    "1. Create an 3D matrix of 3 x 3 x 3 full of random numbers drawn from a standard normal distribution (hint: `np.random.randn()`)\n",
    "2. Reshape the above array into shape (27,)"
   ]
  },
  {
   "cell_type": "code",
   "execution_count": 4,
   "id": "ac3df66e",
   "metadata": {},
   "outputs": [
    {
     "name": "stdout",
     "output_type": "stream",
     "text": [
      "[[[5.86701395e-01 9.18076778e-01 1.90436635e-04]\n",
      "  [7.26202773e-01 6.73238988e-01 9.14295073e-02]\n",
      "  [5.58304421e-02 6.91609010e-01 9.08764603e-01]]]\n",
      "[[[0.0508695 ]\n",
      "  [0.83595539]\n",
      "  [0.82493906]\n",
      "  [0.25908186]\n",
      "  [0.76187214]\n",
      "  [0.89855927]\n",
      "  [0.61569198]\n",
      "  [0.99449941]\n",
      "  [0.23673924]\n",
      "  [0.48573832]\n",
      "  [0.72643431]\n",
      "  [0.58006374]\n",
      "  [0.18559177]\n",
      "  [0.75713723]\n",
      "  [0.25748731]\n",
      "  [0.50144239]\n",
      "  [0.41750884]\n",
      "  [0.28657532]\n",
      "  [0.49504952]\n",
      "  [0.64115592]\n",
      "  [0.35995108]\n",
      "  [0.26898936]\n",
      "  [0.34609655]\n",
      "  [0.28021112]\n",
      "  [0.61587354]\n",
      "  [0.0666708 ]\n",
      "  [0.86794514]]]\n"
     ]
    }
   ],
   "source": [
    "arr4 = np.random.rand(1, 3, 3)\n",
    "print(arr4)\n",
    "\n",
    "arr5 = np.random.rand(1,27,1)\n",
    "print(arr5)\n",
    "\n"
   ]
  },
  {
   "cell_type": "markdown",
   "id": "5bbbbc97",
   "metadata": {},
   "source": [
    "# 2.3 \n",
    "\n",
    "Create an array of 20 linearly spaced numbers between 1 and 10."
   ]
  },
  {
   "cell_type": "code",
   "execution_count": 7,
   "id": "3304c495",
   "metadata": {},
   "outputs": [
    {
     "name": "stdout",
     "output_type": "stream",
     "text": [
      "[ 1.   1.5  2.   2.5  3.   3.5  4.   4.5  5.   5.5  6.   6.5  7.   7.5\n",
      "  8.   8.5  9.   9.5 10. ]\n"
     ]
    }
   ],
   "source": [
    "arr6 = np.arange(1, 10.5, 0.5)\n",
    "print(arr6)\n"
   ]
  },
  {
   "cell_type": "markdown",
   "id": "fee4622b",
   "metadata": {},
   "source": [
    "## 2.4\n",
    "\n",
    "Run the following code to create an array of shape 4 x 4 and then use indexing to produce the outputs shown below."
   ]
  },
  {
   "cell_type": "code",
   "execution_count": 2,
   "id": "ce54aa24",
   "metadata": {},
   "outputs": [],
   "source": [
    "import numpy as np\n",
    "a = np.arange(1, 26).reshape(5, -1)"
   ]
  },
  {
   "cell_type": "code",
   "execution_count": 3,
   "id": "9fb30ef8",
   "metadata": {},
   "outputs": [
    {
     "name": "stdout",
     "output_type": "stream",
     "text": [
      "[[ 1  2  3  4  5]\n",
      " [ 6  7  8  9 10]\n",
      " [11 12 13 14 15]\n",
      " [16 17 18 19 20]\n",
      " [21 22 23 24 25]]\n"
     ]
    }
   ],
   "source": [
    "arr7 = a\n",
    "print(arr7)"
   ]
  },
  {
   "cell_type": "code",
   "execution_count": 5,
   "id": "e752079a",
   "metadata": {},
   "outputs": [
    {
     "name": "stdout",
     "output_type": "stream",
     "text": [
      "[[ 9 10 14 15 19 20 24 25]]\n"
     ]
    },
    {
     "data": {
      "text/plain": [
       "array([[[ 9, 10],\n",
       "        [14, 15],\n",
       "        [19, 20],\n",
       "        [24, 25]]])"
      ]
     },
     "execution_count": 5,
     "metadata": {},
     "output_type": "execute_result"
    }
   ],
   "source": [
    "#Code goes here\n",
    "#Code goes here\n",
    "lst1 = [[9, 10, 14, 15, 19, 20, 24, 25]]\n",
    "arr8 = np.array(lst1)\n",
    "print(arr8)\n",
    "arr8.reshape(-1, 4, 2)\n",
    "\n"
   ]
  },
  {
   "cell_type": "markdown",
   "id": "24c2d6c3",
   "metadata": {},
   "source": [
    "```python\n",
    "array([[ 9, 10],\n",
    "       [14, 15],\n",
    "       [19, 20],\n",
    "       [24, 25]])\n",
    "```"
   ]
  },
  {
   "cell_type": "code",
   "execution_count": null,
   "id": "d86f1c2f",
   "metadata": {},
   "outputs": [],
   "source": [
    "# Code come here\n"
   ]
  },
  {
   "cell_type": "markdown",
   "id": "984bb786",
   "metadata": {},
   "source": [
    "```python\n",
    "array([ 6,  7,  8,  9, 10])\n",
    "```"
   ]
  },
  {
   "cell_type": "code",
   "execution_count": 6,
   "id": "943ec85c",
   "metadata": {},
   "outputs": [
    {
     "name": "stdout",
     "output_type": "stream",
     "text": [
      "[ 6  7  8  9 10]\n"
     ]
    },
    {
     "data": {
      "text/plain": [
       "array([[[ 6,  7,  8,  9, 10]]])"
      ]
     },
     "execution_count": 6,
     "metadata": {},
     "output_type": "execute_result"
    }
   ],
   "source": [
    "lst2 = [6, 7, 8, 9, 10]\n",
    "arr9 = np.array(lst2)\n",
    "print(arr9)\n",
    "arr9.reshape(-1, 1, 5)\n"
   ]
  },
  {
   "cell_type": "markdown",
   "id": "a8e576e0",
   "metadata": {},
   "source": [
    "## 2.5 \n",
    "\n",
    "Calculate the sum of all the numbers in `a`."
   ]
  },
  {
   "cell_type": "code",
   "execution_count": 21,
   "id": "bd34b207",
   "metadata": {},
   "outputs": [
    {
     "name": "stdout",
     "output_type": "stream",
     "text": [
      "[ 1  2  3  4  5  6  7  8  9 10 11 12 13 14 15 16 17 18 19 20 21 22 23 24\n",
      " 25]\n"
     ]
    },
    {
     "data": {
      "text/plain": [
       "325"
      ]
     },
     "execution_count": 21,
     "metadata": {},
     "output_type": "execute_result"
    }
   ],
   "source": [
    "# Code comes here\n",
    "\n",
    "arr10 = np.arange(1, 26, 1, dtype=\"int\")\n",
    "print(arr10)\n",
    "np.sum(arr10)\n",
    "\n",
    "\n"
   ]
  },
  {
   "cell_type": "markdown",
   "id": "50c3950b",
   "metadata": {},
   "source": [
    "## 2.6 \n",
    "\n",
    "Calculate the sum of each row in `a`."
   ]
  },
  {
   "cell_type": "code",
   "execution_count": 34,
   "id": "de620d7d",
   "metadata": {},
   "outputs": [
    {
     "name": "stdout",
     "output_type": "stream",
     "text": [
      "[[1 2 3 4 5]]\n"
     ]
    },
    {
     "data": {
      "text/plain": [
       "15"
      ]
     },
     "execution_count": 34,
     "metadata": {},
     "output_type": "execute_result"
    }
   ],
   "source": [
    "# Code comes here\n",
    "\n",
    "arr11 = arr7.reshape(5,1,5)\n",
    "\n",
    "print(arr11[0])\n",
    "np.sum(arr11[0])\n"
   ]
  },
  {
   "cell_type": "code",
   "execution_count": 35,
   "id": "eb4d3869-0fa3-4f63-85ac-c54e678e105f",
   "metadata": {},
   "outputs": [
    {
     "name": "stdout",
     "output_type": "stream",
     "text": [
      "[[ 6  7  8  9 10]]\n"
     ]
    },
    {
     "data": {
      "text/plain": [
       "40"
      ]
     },
     "execution_count": 35,
     "metadata": {},
     "output_type": "execute_result"
    }
   ],
   "source": [
    "print(arr11[1])\n",
    "np.sum(arr11[1])"
   ]
  },
  {
   "cell_type": "code",
   "execution_count": 36,
   "id": "e11fe445-542c-489f-abb4-cae7f7d3bebf",
   "metadata": {},
   "outputs": [
    {
     "name": "stdout",
     "output_type": "stream",
     "text": [
      "[[11 12 13 14 15]]\n"
     ]
    },
    {
     "data": {
      "text/plain": [
       "65"
      ]
     },
     "execution_count": 36,
     "metadata": {},
     "output_type": "execute_result"
    }
   ],
   "source": [
    "print(arr11[2])\n",
    "np.sum(arr11[2])"
   ]
  },
  {
   "cell_type": "code",
   "execution_count": 37,
   "id": "c68cf235-9483-4eb8-a1aa-13bf4e618950",
   "metadata": {},
   "outputs": [
    {
     "name": "stdout",
     "output_type": "stream",
     "text": [
      "[[16 17 18 19 20]]\n"
     ]
    },
    {
     "data": {
      "text/plain": [
       "90"
      ]
     },
     "execution_count": 37,
     "metadata": {},
     "output_type": "execute_result"
    }
   ],
   "source": [
    "print(arr11[3])\n",
    "np.sum(arr11[3])"
   ]
  },
  {
   "cell_type": "code",
   "execution_count": 38,
   "id": "8ec54fd6-7edf-4411-b553-f7024bbd7eb6",
   "metadata": {},
   "outputs": [
    {
     "name": "stdout",
     "output_type": "stream",
     "text": [
      "[[21 22 23 24 25]]\n"
     ]
    },
    {
     "data": {
      "text/plain": [
       "115"
      ]
     },
     "execution_count": 38,
     "metadata": {},
     "output_type": "execute_result"
    }
   ],
   "source": [
    "print(arr11[4])\n",
    "np.sum(arr11[4])"
   ]
  },
  {
   "cell_type": "markdown",
   "id": "ea9b2c11",
   "metadata": {},
   "source": [
    "## 2.7 \n",
    "\n",
    "Extract all values of `a` greater than the mean of `a` (hint: use a boolean mask)."
   ]
  },
  {
   "cell_type": "code",
   "execution_count": 44,
   "id": "aef9b210",
   "metadata": {},
   "outputs": [
    {
     "data": {
      "text/plain": [
       "13.0"
      ]
     },
     "execution_count": 44,
     "metadata": {},
     "output_type": "execute_result"
    }
   ],
   "source": [
    "# Code comes here\n",
    "np.mean(arr11)"
   ]
  },
  {
   "cell_type": "code",
   "execution_count": 48,
   "id": "e2c02905-6a4f-4bdc-9222-0d7277611104",
   "metadata": {},
   "outputs": [
    {
     "name": "stdout",
     "output_type": "stream",
     "text": [
      "[[[False False False False False]]\n",
      "\n",
      " [[False False False False False]]\n",
      "\n",
      " [[False False False  True  True]]\n",
      "\n",
      " [[ True  True  True  True  True]]\n",
      "\n",
      " [[ True  True  True  True  True]]]\n"
     ]
    }
   ],
   "source": [
    "arr11b = arr11 > 13\n",
    "print(arr11b)"
   ]
  },
  {
   "cell_type": "markdown",
   "id": "9c31a0e1",
   "metadata": {},
   "source": [
    "# Practicing Pandas"
   ]
  },
  {
   "cell_type": "markdown",
   "id": "61c04b0c",
   "metadata": {},
   "source": [
    "## 2.8\n",
    "\n",
    "In this set of practice exercises we'll be investigating the carbon footprint of different foods. \n",
    "\n",
    "We'll be leveraging a dataset compiled by [Kasia Kulma](https://r-tastic.co.uk/post/from-messy-to-tidy/) and contributed to [R's Tidy Tuesday project](https://github.com/rfordatascience/tidytuesday).\n",
    "\n",
    "Start by importing pandas with the alias `pd`."
   ]
  },
  {
   "cell_type": "code",
   "execution_count": 49,
   "id": "8b9ede0d",
   "metadata": {},
   "outputs": [],
   "source": [
    "# Codes comes here\n",
    "import numpy as np\n",
    "import pandas as pd"
   ]
  },
  {
   "cell_type": "markdown",
   "id": "3d39a2d7",
   "metadata": {},
   "source": [
    "## 2.9 \n",
    "\n",
    "The dataset we'll be working with has the following columns:\n",
    "\n",
    "|column      |description |\n",
    "|:-------------|:-----------|\n",
    "|country       | Country Name |\n",
    "|food_category | Food Category |\n",
    "|consumption   | Consumption (kg/person/year) |\n",
    "|co2_emmission | Co2 Emission (Kg CO2/person/year) |\n",
    "\n",
    "\n",
    "Import the dataset as a dataframe named `df` from this url: <https://raw.githubusercontent.com/rfordatascience/tidytuesday/master/data/2020/2020-02-18/food_consumption.csv>"
   ]
  },
  {
   "cell_type": "code",
   "execution_count": null,
   "id": "b39d8ebb",
   "metadata": {},
   "outputs": [],
   "source": [
    "# Code comes here"
   ]
  },
  {
   "cell_type": "markdown",
   "id": "f903c8a1",
   "metadata": {},
   "source": [
    "## 2.10 \n",
    "\n",
    "How many rows and columns are there in the dataframe?"
   ]
  },
  {
   "cell_type": "code",
   "execution_count": null,
   "id": "39cd4f89",
   "metadata": {},
   "outputs": [],
   "source": [
    "#Code comes here"
   ]
  },
  {
   "cell_type": "markdown",
   "id": "8f0b87b0",
   "metadata": {},
   "source": [
    "## 2.11\n",
    "\n",
    "What is the mean `co2_emission` of the whole dataset?"
   ]
  },
  {
   "cell_type": "code",
   "execution_count": null,
   "id": "8a8b3edc",
   "metadata": {},
   "outputs": [],
   "source": [
    "# Code comes here"
   ]
  },
  {
   "cell_type": "markdown",
   "id": "1acb3cc5",
   "metadata": {},
   "source": [
    "## 2.12\n",
    "\n",
    "What is the maximum `co2_emmission` in the dataset and which food type and country does it belong to?"
   ]
  },
  {
   "cell_type": "code",
   "execution_count": null,
   "id": "04f58ddd",
   "metadata": {},
   "outputs": [],
   "source": [
    "# Code comes here"
   ]
  },
  {
   "cell_type": "markdown",
   "id": "68ba75e4",
   "metadata": {},
   "source": [
    "## 2.13\n",
    "\n",
    "How many countries produce more than 1000 Kg CO2/person/year for at least one food type?"
   ]
  },
  {
   "cell_type": "code",
   "execution_count": null,
   "id": "0dac7b68",
   "metadata": {},
   "outputs": [],
   "source": [
    "#code comes here"
   ]
  },
  {
   "cell_type": "markdown",
   "id": "507fe1cd",
   "metadata": {},
   "source": [
    "## 2.14\n",
    "\n",
    "Which country consumes the least amount of beef per person per year?\n"
   ]
  },
  {
   "cell_type": "code",
   "execution_count": null,
   "id": "e4bf7f60",
   "metadata": {},
   "outputs": [],
   "source": [
    "# code comes here"
   ]
  },
  {
   "cell_type": "markdown",
   "id": "e40cbc79",
   "metadata": {},
   "source": [
    "## 2.15\n",
    "\n",
    "What is the total emissions of all the meat products (Pork, Poultry, Fish, Lamb & Goat, Beef) in the dataset combined?"
   ]
  },
  {
   "cell_type": "code",
   "execution_count": null,
   "id": "932f7976",
   "metadata": {},
   "outputs": [],
   "source": [
    "# code comes here"
   ]
  },
  {
   "cell_type": "markdown",
   "id": "2e01f760",
   "metadata": {},
   "source": [
    "# 2.16 \n",
    "\n",
    "What is the total emissions of all other (non-meat) products in the dataset combined?"
   ]
  },
  {
   "cell_type": "code",
   "execution_count": null,
   "id": "6d0c8ac4",
   "metadata": {},
   "outputs": [],
   "source": [
    "# code comes here"
   ]
  },
  {
   "cell_type": "markdown",
   "id": "24d092f5",
   "metadata": {},
   "source": [
    "## Well done!\n",
    "\n",
    "That's all from this week, if you have any questions, do not forget to ask the TAs for assistance."
   ]
  }
 ],
 "metadata": {
  "kernelspec": {
   "display_name": "Python 3 (ipykernel)",
   "language": "python",
   "name": "python3"
  },
  "language_info": {
   "codemirror_mode": {
    "name": "ipython",
    "version": 3
   },
   "file_extension": ".py",
   "mimetype": "text/x-python",
   "name": "python",
   "nbconvert_exporter": "python",
   "pygments_lexer": "ipython3",
   "version": "3.10.9"
  },
  "vscode": {
   "interpreter": {
    "hash": "a6ff75c9eea1cc423693f453c5146b58e101d0acaa5aa6cb29950423ef44ea78"
   }
  }
 },
 "nbformat": 4,
 "nbformat_minor": 5
}
